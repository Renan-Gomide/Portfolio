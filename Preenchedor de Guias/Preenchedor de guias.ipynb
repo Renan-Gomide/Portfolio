{
 "cells": [
  {
   "cell_type": "code",
   "execution_count": 34,
   "metadata": {},
   "outputs": [],
   "source": [
    "from selenium import webdriver\n",
    "from selenium.webdriver.chrome.service import Service\n",
    "from webdriver_manager.chrome import ChromeDriverManager\n",
    "from selenium.webdriver.common.by import By\n",
    "\n",
    "servico = Service(ChromeDriverManager().install())\n",
    "navegador = webdriver.Chrome(service=servico)"
   ]
  },
  {
   "cell_type": "code",
   "execution_count": 37,
   "metadata": {},
   "outputs": [],
   "source": [
    "navegador.get(\"https://www45.bb.com.br/fmc/frm/fw0707314_1.jsp\")\n",
    "navegador.find_element(By.XPATH, \"/html/body/table/tbody/tr/td/form/table/tbody/tr/td[2]/table[1]/tbody/tr[1]/td/table[1]/tbody/tr[2]/td[1]/input\").send_keys(\"Texto a ser inserido\")\n",
    "\n",
    "navegador.find_element(By.XPATH, '//*[@id=\"cnpj\"]').send_keys('11111111')\n",
    "\n",
    "\n"
   ]
  }
 ],
 "metadata": {
  "kernelspec": {
   "display_name": "Python 3",
   "language": "python",
   "name": "python3"
  },
  "language_info": {
   "codemirror_mode": {
    "name": "ipython",
    "version": 3
   },
   "file_extension": ".py",
   "mimetype": "text/x-python",
   "name": "python",
   "nbconvert_exporter": "python",
   "pygments_lexer": "ipython3",
   "version": "3.11.0"
  },
  "orig_nbformat": 4,
  "vscode": {
   "interpreter": {
    "hash": "0c1c5be3599bae2a30863c990c2ce2fbcdf3e5de40fde5c3be83ad292c296199"
   }
  }
 },
 "nbformat": 4,
 "nbformat_minor": 2
}
