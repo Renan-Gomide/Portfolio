{
 "cells": [
  {
   "cell_type": "markdown",
   "metadata": {},
   "source": [
    "# Importandos todas as Bibliotecas necessárias."
   ]
  },
  {
   "cell_type": "code",
   "execution_count": 13,
   "metadata": {},
   "outputs": [],
   "source": [
    "import pandas as pd\n",
    "from docx import Document\n",
    "from docx.shared import Pt\n",
    "from docx.enum.text import WD_PARAGRAPH_ALIGNMENT\n",
    "from docx2pdf import convert\n",
    "import time\n",
    "from num2words import num2words\n",
    "import re\n",
    "import os\n",
    "from unidecode import unidecode\n",
    "from selenium import webdriver\n",
    "from selenium.webdriver.common.keys import Keys\n",
    "from selenium.webdriver.common.by import By\n",
    "import pyautogui\n",
    "from selenium.webdriver.chrome.options import Options\n",
    "from webdriver_manager.chrome import ChromeDriverManager\n",
    "from selenium.webdriver.chrome.service import Service"
   ]
  },
  {
   "cell_type": "markdown",
   "metadata": {},
   "source": [
    "# BuscarDados\n",
    "\n",
    "Classe que realiza a busca de dados na planilha do Excel e retorna um objeto:<br>\n",
    "\n",
    " * Possui os seguinte parâmetros: \n",
    "   * busca = o dado que você está procurando na tabela, a busca não é *case sensitive*;\n",
    "   * aba = pode ser fornecida a aba onde está o dado, caso contrário será feita a busca em todas as abas e retornará a primeira linha com o dado;\n",
    "   * arquivo = pode ser fornecido o nome do arquivo excel, caso contrário usará o arquivo padrão especificado quando da criação da classe;\n",
    "   <br><br>\n",
    " \n",
    " * Arquivo do Excel com uma tabela por aba;\n",
    "\n",
    " * Será criado um atributo dicionário, com as chaves (*colunas*) e os valores respectivos;\n",
    " \n",
    " * Se a célula for vazia, a mesma será excluído do dicionário;\n",
    " \n",
    " * Importante analisar a ordem das abas, abas com valores únicos devem ser as primeiras da planilha;\n",
    "\n",
    " * Se o dado procurado não está no arquivo excel, retornará o erro: **'O valor não foi encontrado nas abas do arquivo'**"
   ]
  },
  {
   "cell_type": "code",
   "execution_count": 14,
   "metadata": {},
   "outputs": [],
   "source": [
    "class BuscarDados:\n",
    "\n",
    "    def __init__(self, busca, aba=None, arquivo='01_Cadastro.xlsm'):\n",
    "        \n",
    "        banco_de_dados = (\n",
    "            pd.read_excel(arquivo, aba, dtype=str) if aba\n",
    "            else pd.concat(pd.read_excel(arquivo, aba, dtype=str), ignore_index=True)\n",
    "        )\n",
    "        \n",
    "        banco_de_dados = banco_de_dados.applymap(lambda texto: texto.lower() if isinstance(texto, str) else texto)\n",
    "        busca = str(busca).lower()\n",
    "\n",
    "        try:\n",
    "            self.dicionario = banco_de_dados[banco_de_dados.eq(busca).any(axis=1)].iloc[0].dropna().to_dict()\n",
    "        except IndexError:\n",
    "            raise ValueError('O valor não foi encontrado nas abas do arquivo')\n",
    "        \n",
    "        self.dicionario = {chave.lower(): valor for chave, valor in self.dicionario.items()}"
   ]
  },
  {
   "cell_type": "code",
   "execution_count": 37,
   "metadata": {},
   "outputs": [],
   "source": [
    "class FormatarTexto:\n",
    "    \n",
    "    def __init__(self, dicionario):\n",
    "        \n",
    "        maiusculas = 'nome','uf','expedidor_rg','administrador','comarca_uf'\n",
    "        minusculas = 'de','com','da','das','do','dos','na','nas','no','nos','o','os','a','as','uma','umas','um','uns'\n",
    "        inicial_maiuscula = 'logradouro','complemento','bairro','cidade','vara','comarca'\n",
    "\n",
    "        for chave, valor in dicionario.items():\n",
    "            \n",
    "            if chave in maiusculas:\n",
    "                dicionario[chave] = valor.upper()\n",
    "            \n",
    "            elif chave in inicial_maiuscula:\n",
    "                palavras = valor.split()\n",
    "                palavras_atualizadas = (\n",
    "                    palavra.title() if palavra.lower() not in minusculas else palavra\n",
    "                    for palavra in palavras\n",
    "                )\n",
    "                dicionario[chave] = ' '.join(palavras_atualizadas)"
   ]
  },
  {
   "cell_type": "code",
   "execution_count": 16,
   "metadata": {},
   "outputs": [],
   "source": [
    "class AgruparEndereco:\n",
    "    def __init__(self, dicionario):\n",
    "        \n",
    "        try:\n",
    "            n = f\"{dicionario['numero']} - {dicionario ['complemento']}\" if 'complemento' in dicionario else dicionario['numero']\n",
    "            endereco = f\"{dicionario['logradouro']}, nº {n}, Bairro {dicionario['bairro']}, CEP {dicionario['cep']}, {dicionario['cidade']}/{dicionario['uf']}\"\n",
    "            dicionario['endereco'] = endereco\n",
    "        except KeyError as e:\n",
    "            raise ValueError(f'O dicionário não possui a chave {e.args[0]} para construir o endereço')"
   ]
  },
  {
   "cell_type": "code",
   "execution_count": 17,
   "metadata": {},
   "outputs": [],
   "source": [
    "class QualificarParte:\n",
    "    \n",
    "    def __init__(self, dicionario):\n",
    "        \n",
    "        if 'cpf' in dicionario:\n",
    "            qualificacao = (\n",
    "                f\"{dicionario['nome']}, {dicionario['nacionalidade']}, {dicionario['estado_civil']}, {dicionario['profissao']}, RG n° {dicionario['rg']} \"\n",
    "                f\"{dicionario['expedidor_rg']}, CPF n° {dicionario['cpf']}, e-mail: {dicionario['email']}, com endereço à {dicionario['endereco']}\"\n",
    "            )\n",
    "\n",
    "        elif 'tag' in dicionario and dicionario['tag'] == 'condominio':\n",
    "            qualificacao = (\n",
    "                f\"{dicionario['nome']}, inscrito no CNPJ n° {dicionario['cnpj']}, com endereço à {dicionario['endereco']}, \"\n",
    "                f\"devidamente representado neste ato pelo seu síndico(a) {dicionario['administrador']}\"\n",
    "            )\n",
    "        \n",
    "        else:\n",
    "            qualificacao = (\n",
    "                f\"{dicionario['nome']}, pessoa jurídica inscrita no CNPJ n° {dicionario['cnpj']}, com endereço à {dicionario['endereco']},\"\n",
    "                f\" devidamente representada neste ato pelo(a) sócio(a) {dicionario['administrador']}\"\n",
    "            )\n",
    "        \n",
    "        dicionario['qualificacao'] = qualificacao"
   ]
  },
  {
   "cell_type": "code",
   "execution_count": 18,
   "metadata": {},
   "outputs": [],
   "source": [
    "class CriarAtributos:\n",
    "\n",
    "    def __init__(self, objeto):\n",
    "        \n",
    "        for chave, valor in objeto.dicionario.items():\n",
    "            setattr(objeto, chave.lower(), valor)"
   ]
  },
  {
   "cell_type": "code",
   "execution_count": 19,
   "metadata": {},
   "outputs": [],
   "source": [
    "class DividirValor:\n",
    "    \n",
    "    def __init__(self, dicionario, separador):\n",
    "        dicionario.update({chave: valor.split(separador) for chave, valor in dicionario.items() if separador in valor})"
   ]
  },
  {
   "cell_type": "code",
   "execution_count": 20,
   "metadata": {},
   "outputs": [],
   "source": [
    "class ParearAtributos:\n",
    "    \n",
    "    def __init__(self, dicionario, par_1, par_2):\n",
    "        \n",
    "        CriarLista(dicionario, par_1)\n",
    "        CriarLista(dicionario, par_2)\n",
    "        dicionario.update(dict(zip(dicionario[par_1], dicionario[par_2])))"
   ]
  },
  {
   "cell_type": "code",
   "execution_count": 21,
   "metadata": {},
   "outputs": [],
   "source": [
    "class CriarLista:\n",
    "    \n",
    "    def __init__(self, dicionario, valor):\n",
    "        if valor in dicionario:\n",
    "            dicionario[valor] = [dicionario[valor]] if isinstance(dicionario[valor], str) else dicionario[valor]"
   ]
  },
  {
   "cell_type": "code",
   "execution_count": 30,
   "metadata": {},
   "outputs": [],
   "source": [
    "class adicionar_dados_do_processo:\n",
    "    \n",
    "    def __init__(self, dicionario):\n",
    "\n",
    "        if not str(dicionario['id_processos']).isalpha():\n",
    "            dicionario.update(BuscarDados(dicionario['id_processos'], 'Processos').dicionario)\n",
    "        \n",
    "        else: \n",
    "            dicionario['VARA'] = 'Vara Cível'\n",
    "            dicionario['COMARCA'] = 'S. J. Rio Preto/SP'        \n",
    "        \n",
    "        FormatarTexto(dicionario)"
   ]
  },
  {
   "cell_type": "code",
   "execution_count": 23,
   "metadata": {},
   "outputs": [],
   "source": [
    "class CriarPessoa:\n",
    "\n",
    "    def __init__(self, dicionario):\n",
    "        \n",
    "        FormatarTexto(dicionario)\n",
    "        AgruparEndereco(dicionario)\n",
    "        QualificarParte(dicionario)"
   ]
  },
  {
   "cell_type": "code",
   "execution_count": 39,
   "metadata": {},
   "outputs": [],
   "source": [
    "class CriarPartes:\n",
    "    \n",
    "    def __init__(self, dicionario):\n",
    "        \n",
    "        for parte in dicionario['partes']:\n",
    "            for i, pessoa in enumerate(dicionario[parte], start=1):\n",
    "                prefixo = f'[{i}]{parte}_'\n",
    "                \n",
    "                dicionario_pessoa = BuscarDados(pessoa).dicionario\n",
    "                CriarPessoa(dicionario_pessoa)\n",
    "\n",
    "                for chave, valor in dicionario_pessoa.items():\n",
    "                    dicionario[prefixo + chave] = valor\n",
    "\n",
    "                if len(dicionario['partes']) == 1:\n",
    "                    dicionario[parte + '_qualificacao'] = dicionario[f'{prefixo}qualificacao']                    \n",
    "                elif i == 1:\n",
    "                    dicionario[parte + '_qualificacao'] = f'[{i}] ' + dicionario[f'{prefixo}qualificacao']\n",
    "                elif i == len(dicionario['partes']):\n",
    "                    dicionario[parte + '_qualificacao'] += ' e ' + f'[{i}] ' + dicionario[f'{prefixo}qualificacao']\n",
    "                else:\n",
    "                    dicionario[parte + '_qualificacao'] += ', ' + f'[{i}] ' + dicionario[f'{prefixo}qualificacao']"
   ]
  },
  {
   "cell_type": "code",
   "execution_count": 25,
   "metadata": {},
   "outputs": [],
   "source": [
    "class CriarNomeArquivo:\n",
    "\n",
    "     def __init__(self, dicionario):      \n",
    "        \n",
    "        peca = dicionario['peca'] + '_'\n",
    "\n",
    "        if isinstance(dicionario['partes'], str):\n",
    "            parte = dicionario['pessoas']        \n",
    "        else:\n",
    "            parte = dicionario['pessoas'][0]\n",
    "        \n",
    "        dicionario['arquivo'] = unidecode((peca + parte).replace(' ','-'))"
   ]
  },
  {
   "cell_type": "code",
   "execution_count": 26,
   "metadata": {},
   "outputs": [],
   "source": [
    "class CriarDocumento:\n",
    "\n",
    "    def __init__(self, id_documento):\n",
    "\n",
    "        self.dicionario = BuscarDados(id_documento, 'Peticoes').dicionario\n",
    "        self.dicionario.update(BuscarDados(self.dicionario['peca'], 'Modelos').dicionario)\n",
    "        \n",
    "        DividirValor(self.dicionario, ';')\n",
    "        if 'atributos' in self.dicionario:\n",
    "            ParearAtributos(self.dicionario, 'atributos', 'valores')\n",
    "        ParearAtributos(self.dicionario, 'partes', 'pessoas')\n",
    "        \n",
    "        DividirValor(self.dicionario, '/')        \n",
    "\n",
    "        for parte in self.dicionario['partes']:\n",
    "            CriarLista(self.dicionario, parte)\n",
    "        for pessoa in self.dicionario['pessoas']:\n",
    "            CriarLista(self.dicionario, pessoa)\n",
    "        \n",
    "        adicionar_dados_do_processo(self.dicionario)\n",
    "        CriarPartes(self.dicionario)\n",
    "        CriarNomeArquivo(self.dicionario)\n",
    "\n",
    "        #CriarAtributos(self)"
   ]
  },
  {
   "cell_type": "markdown",
   "metadata": {},
   "source": [
    "Salva o arquivo em docx e pdf:\n",
    "\n",
    "* Arquivos devem ser escolhidos pelo id\n",
    "\n",
    "* Substitui os placeholders(chaves) de um arquivo docx pelos valores contidos nas chaves do dicionário criado com 'CriarDocumento';<br>\n",
    "\n",
    "* Formata o nome do arquivo de acordo com o padronizado;\n",
    "\n",
    "* Na sequência, salva em um arquivo docx em uma pasta já especificada e converte também em pdf."
   ]
  },
  {
   "cell_type": "code",
   "execution_count": 15,
   "metadata": {},
   "outputs": [],
   "source": [
    "class SalvarDocxPdf:\n",
    "\n",
    "    def __init__(self, id_documento):\n",
    "        \n",
    "        dicionario = CriarDocumento(id_documento).dicionario\n",
    "        documento = Document(f\"01_Modelos\\{dicionario['peca']}.docx\")\n",
    "        self._substituir_texto(dicionario, documento)      \n",
    "        \n",
    "        documento.save(f\"02_Documentos-prontos\\{dicionario['arquivo']}.docx\")\n",
    "        convert(f\"02_Documentos-prontos\\{dicionario['arquivo']}.docx\", f\"02_Documentos-prontos\\{dicionario['arquivo']}.pdf\")\n",
    "\n",
    "    def _substituir_texto(self, dicionario, docx):\n",
    "\n",
    "        def numero_por_extenso(paragrafo):\n",
    "            \n",
    "            numero_entre_parenteses = r\"\\((.*?)\\)\"\n",
    "            resultado_busca_numero = re.search(numero_entre_parenteses, paragrafo.text)\n",
    "            if resultado_busca_numero:\n",
    "                valor_encontrado = resultado_busca_numero.group(1)\n",
    "                valor_decimal = valor_encontrado.replace('.', '').replace(',', '.')\n",
    "                try:\n",
    "                    valor_por_extenso = '(' + num2words(float(valor_decimal), lang='pt_BR', to='currency') + ')'\n",
    "                    paragrafo.text = paragrafo.text.replace(resultado_busca_numero.group(0), valor_por_extenso)\n",
    "                except ValueError:\n",
    "                    pass\n",
    "\n",
    "        dicionario_de_substituicao = {'x' + chave.upper() + 'x': str(valor) for chave, valor in dicionario.items()}\n",
    "        \n",
    "        for paragrafo in docx.paragraphs:\n",
    "            for chave in dicionario_de_substituicao:\n",
    "\n",
    "                if not isinstance(chave, list):\n",
    "                    if chave in paragrafo.text:\n",
    "                        paragrafo.text = paragrafo.text.replace(chave, dicionario_de_substituicao[chave])\n",
    "                numero_por_extenso(paragrafo)"
   ]
  },
  {
   "cell_type": "markdown",
   "metadata": {},
   "source": [
    "___\n"
   ]
  }
 ],
 "metadata": {
  "kernelspec": {
   "display_name": "Python 3",
   "language": "python",
   "name": "python3"
  },
  "language_info": {
   "codemirror_mode": {
    "name": "ipython",
    "version": 3
   },
   "file_extension": ".py",
   "mimetype": "text/x-python",
   "name": "python",
   "nbconvert_exporter": "python",
   "pygments_lexer": "ipython3",
   "version": "3.11.4"
  },
  "orig_nbformat": 4,
  "vscode": {
   "interpreter": {
    "hash": "0c1c5be3599bae2a30863c990c2ce2fbcdf3e5de40fde5c3be83ad292c296199"
   }
  }
 },
 "nbformat": 4,
 "nbformat_minor": 2
}
