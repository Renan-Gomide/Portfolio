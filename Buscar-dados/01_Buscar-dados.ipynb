{
 "cells": [
  {
   "cell_type": "markdown",
   "metadata": {},
   "source": [
    "# BuscarDados\n",
    "\n",
    "Classe que realiza a busca de dados em uma planilha do Excel e retorna um dicionário:<br>\n",
    " \n",
    " * Deve ser especificado o nome do arquivo do Excel com a extensão, e o valor a ser procurado;\n",
    "\n",
    " * Arquivo do Excel com uma tabela por aba;\n",
    "\n",
    " * Pode ser especificado o nome da Aba onde deve ser realizada a pesquisa;\n",
    "\n",
    " * Se não for especificada a aba, ele irá buscar em todas as abas até encontrar a primeira ocorrência;\n",
    "\n",
    " * Se a célula for vazia, a mesma será excluído do dicionário;\n",
    " \n",
    " * Importante analisar a ordem das abas, abas com valores únicos devem estar nas primeiras planilhas;\n",
    "\n",
    " * Se na célular houver valores separados por **\";\"** será criada uma lista com os valores separados pelo **\";\"** ;\n",
    "\n",
    " * Caso o valor buscado não seja encontrado em nenhuma célula de nenhuma aba, retornara a mensagem de erro **\"O valor não foi encontrado nas abas do arquivo\"** ."
   ]
  },
  {
   "cell_type": "code",
   "execution_count": 26,
   "metadata": {},
   "outputs": [],
   "source": [
    "import pandas as pd\n",
    "\n",
    "class BuscarDados:\n",
    "\n",
    "    def __init__(self, arquivo, valor, aba=None):\n",
    "\n",
    "        banco_de_dados = (\n",
    "            pd.read_excel(arquivo, sheet_name=aba) if aba \n",
    "            else pd.concat(pd.read_excel(arquivo, sheet_name=None), ignore_index=True)\n",
    "            )\n",
    "                \n",
    "        try:\n",
    "            self.dicionario = banco_de_dados[banco_de_dados.eq(valor).any(axis=1)].iloc[0].dropna().astype(str).to_dict()\n",
    "        \n",
    "        except IndexError:\n",
    "            raise ValueError('O valor não foi encontrado nas abas do arquivo')\n",
    "        \n",
    "        self.dicionario.update({chave: valor.split(';') for chave, valor in self.dicionario.items() if ';' in valor})"
   ]
  }
 ],
 "metadata": {
  "kernelspec": {
   "display_name": "Python 3",
   "language": "python",
   "name": "python3"
  },
  "language_info": {
   "codemirror_mode": {
    "name": "ipython",
    "version": 3
   },
   "file_extension": ".py",
   "mimetype": "text/x-python",
   "name": "python",
   "nbconvert_exporter": "python",
   "pygments_lexer": "ipython3",
   "version": "3.11.4"
  },
  "orig_nbformat": 4,
  "vscode": {
   "interpreter": {
    "hash": "0c1c5be3599bae2a30863c990c2ce2fbcdf3e5de40fde5c3be83ad292c296199"
   }
  }
 },
 "nbformat": 4,
 "nbformat_minor": 2
}
