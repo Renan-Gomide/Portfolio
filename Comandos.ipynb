{
 "cells": [
  {
   "cell_type": "code",
   "execution_count": 2,
   "metadata": {},
   "outputs": [],
   "source": [
    "#Importando as bibliotecas que usarei: Pandas, Docx, Datetime e Time\n",
    "import pandas as pd\n",
    "from docx import Document\n",
    "from docx.shared import Pt\n",
    "from docx.enum.text import WD_PARAGRAPH_ALIGNMENT"
   ]
  },
  {
   "cell_type": "code",
   "execution_count": 22,
   "metadata": {},
   "outputs": [
    {
     "name": "stdout",
     "output_type": "stream",
     "text": [
      "xIDPFx                                 2\n",
      "xNOMEx              Fabiano Darc Arantes\n",
      "xCPFx                     256.860.028-43\n",
      "xRGx                            25475734\n",
      "xEXPEDIDOR_RGx                    SSP/SP\n",
      "xESTADO_CIVILx                 casado(a)\n",
      "xPROFISSAOx                 professor(a)\n",
      "xNACIONALIDADEx            brasileiro(a)\n",
      "xCEPx                          15040-647\n",
      "xLOGRADOUROx       Rua Reginaldo Waitman\n",
      "xNUMEROx                             299\n",
      "xCOMPLEMENTOx             Qd. 11, Lt. 02\n",
      "xBAIRROx           Residencial Ary Attab\n",
      "xCIDADEx           São José do Rio Preto\n",
      "xUFx                                  SP\n",
      "xEMAILx                              n/c\n",
      "xESCRITORIOx                      Gomide\n",
      "xCADASTROx                       cliente\n",
      "xCELx                             456789\n",
      "Name: 1, dtype: object\n",
      "Int64Index([4], dtype='int64')\n"
     ]
    }
   ],
   "source": [
    "bb = pd.read_excel(\"0. Cadastro.xlsm\", \"PF\")\n",
    "bb = bb.astype(str)\n",
    "#bb[\"xNOMEx\"] = bb[\"xNOMEx\"].map(str)\n",
    "print(bb.iloc[1])\n",
    "\n",
    "#usa o list comprehension para localizar no dataframe a linha do parametro \"busca\", retornando uma lista com 1 item\n",
    "#self.linha = [linha for linha in range(0,len(self.bd)) if str(self.bd.loc[linha, coluna]) == busca]\n",
    "\n",
    "#essa parte adiciona o nome no último parágrafo\n",
    "        p = documento.add_paragraph()\n",
    "        p.add_run(self.dicionario['xNOMEx']).bold = True\n",
    "        p.style.font.size = Pt(12)\n",
    "\n",
    "'''\n",
    "for index, i in enumerate(self.atributos.split(\",\")):\n",
    "\n",
    "self.chave = list(self.bd) #retorna cabeçalho das colunas, é o self.chave\n",
    "\n",
    "xx = []\n",
    "for linha in range(0,len(bb)):\n",
    "        if str(bb.loc[linha, 'xNOMEx']) == 'Sandra Segarra':\n",
    "            x = bb.iloc[linha]\n",
    "       \n",
    "class Teste:\n",
    "      \n",
    "    def __init__(self):\n",
    "            \n",
    "        self.nome = 0\n",
    "        self.cpf = 1\n",
    "        self.rg = 2\n",
    "\n",
    "    def nomear(self):\n",
    "        self.nome = x.values[1]\n",
    "        self.cpf = x.values[2]\n",
    "        self.rg = x.values[3]\n",
    "\n",
    "w = Teste()\n",
    "w.nomear()\n",
    "w.__dict__\n",
    "\n",
    "z = list(x.values)\n",
    "z'''\n",
    "\n",
    "#ternary operator - if em uma linha\n",
    "#Exemplos:\n",
    "'''\n",
    "bonus = 50 if vendas > 500 else 0\n",
    "\n",
    "return vendas > 500 or f\"Faltou {500 - vendas} unidades\"\n",
    "\n",
    "'''\n",
    "\n",
    "zz = str(bb[bb[\"xNOMEx\"] == \"Neuci de Carvalho\"].index)\n",
    "\n",
    "print(zz)\n"
   ]
  }
 ],
 "metadata": {
  "kernelspec": {
   "display_name": "Python 3",
   "language": "python",
   "name": "python3"
  },
  "language_info": {
   "codemirror_mode": {
    "name": "ipython",
    "version": 3
   },
   "file_extension": ".py",
   "mimetype": "text/x-python",
   "name": "python",
   "nbconvert_exporter": "python",
   "pygments_lexer": "ipython3",
   "version": "3.11.0"
  },
  "orig_nbformat": 4,
  "vscode": {
   "interpreter": {
    "hash": "0c1c5be3599bae2a30863c990c2ce2fbcdf3e5de40fde5c3be83ad292c296199"
   }
  }
 },
 "nbformat": 4,
 "nbformat_minor": 2
}
