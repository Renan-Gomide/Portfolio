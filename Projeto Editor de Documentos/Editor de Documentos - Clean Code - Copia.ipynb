{
 "cells": [
  {
   "cell_type": "code",
   "execution_count": 16,
   "metadata": {},
   "outputs": [],
   "source": [
    "#importando as bibliotecas que usarei: Pandas, Docx#\n",
    "import pandas as pd\n",
    "from docx import Document\n",
    "from docx.shared import Pt\n",
    "from docx.enum.text import WD_PARAGRAPH_ALIGNMENT"
   ]
  },
  {
   "cell_type": "code",
   "execution_count": 72,
   "metadata": {},
   "outputs": [],
   "source": [
    "'''___________________________________________________________\n",
    "XXXXXXXXXXXXXXXXXXXXXXXXXXXXXXXXXXXXXXXXXXXXXXXXXXXXXXXXXXXXXXXXXXXXXXXXXXXXXXXXXXXXXXXXX\n",
    "_______________________________________'''\n"
   ]
  },
  {
   "cell_type": "code",
   "execution_count": 84,
   "metadata": {},
   "outputs": [],
   "source": [
    "class BUSCA_DADOS:\n",
    "\n",
    "    def __init__(self, valor):        \n",
    "        banco_de_dados = pd.read_excel('0. Cadastro.xlsm', sheet_name= None)\n",
    "\n",
    "        for nome_aba, dados_aba in banco_de_dados.items():            \n",
    "            if valor in dados_aba.values:\n",
    "                banco_de_dados = dados_aba\n",
    "                break                 \n",
    "        else:\n",
    "            raise ValueError(\"O valor não foi encontrado nas abas do arquivo\")\n",
    "\n",
    "        self.linha = banco_de_dados.loc[banco_de_dados.isin([valor]).any(axis=1)].iloc[0] "
   ]
  },
  {
   "cell_type": "code",
   "execution_count": 79,
   "metadata": {},
   "outputs": [],
   "source": [
    "class PARTE:\n",
    "\n",
    "    #busca no Banco de Dados o parâmetro 'parte' (qualquer valor = nome, CPF, etc)#\n",
    "    def __init__(self, parte):\n",
    "                      \n",
    "        self.dicionario = BUSCA_DADOS(parte).linha.to_dict()   \n",
    "        self._agrupar_endereco()\n",
    "        self._qualificar_parte()\n",
    "          \n",
    "    def _agrupar_endereco(self):\n",
    "                        \n",
    "        self.dicionario['NUMERO_COMPLEMENTO'] = self.dicionario['NUMERO'] if pd.isna(self.dicionario['COMPLEMENTO'])\\\n",
    "            else f\"{self.dicionario['NUMERO']} - {self.dicionario['COMPLEMENTO']}\" \n",
    "\n",
    "        self.dicionario['ENDERECO'] = (f\"{self.dicionario['LOGRADOURO']}, nº {self.dicionario['NUMERO_COMPLEMENTO']}, Bairro \"\n",
    "            f\"{self.dicionario['BAIRRO']}, CEP {self.dicionario['CEP']}, {self.dicionario['CIDADE']}/{self.dicionario['UF']}\")\n",
    "   \n",
    "    def _qualificar_parte(self):\n",
    "\n",
    "        if 'CPF' in self.dicionario:\n",
    "\n",
    "            self.dicionario['QUALIFICAÇÃO'] = '{}, {}, {}, {}, RG n° {} {}, CPF n° {}, e-mail: {}, com endereço à {}'.format(\n",
    "                self.dicionario['NOME'], self.dicionario['NACIONALIDADE'], self.dicionario['ESTADO_CIVIL'], \n",
    "                self.dicionario['PROFISSAO'], self.dicionario['RG'], self.dicionario['EXPEDIDOR_RG'], \n",
    "                self.dicionario['CPF'], self.dicionario['EMAIL'],self.dicionario['ENDERECO'])\n",
    "\n",
    "        elif self.dicionario['ESCRITORIO'] == 'GFA':\n",
    "            self.dicionario['QUALIFICAÇÃO'] = (f\"{self.dicionario['NOME']}, inscrito no CNPJ n° {self.dicionario['CNPJ']}, com \"\n",
    "                f\"endereço à {self.dicionario['ENDERECO']}, devidamente representado neste ato pelo seu síndico(a) \"\n",
    "                f\"{self.dicionario['ADMINISTRADOR']}\")\n",
    "\n",
    "        else:\n",
    "            self.dicionario['QUALIFICAÇÃO'] = ('{}, pessoa jurídica inscrita no CNPJ n° {}, com endereço à {}, devidamente' \n",
    "                ' representada neste ato pelo(a) sócio(a) {}').format(self.dicionario['NOME'], self.dicionario['CNPJ'], \n",
    "                self.dicionario['ENDERECO'],self.dicionario['ADMINISTRADOR'])"
   ]
  },
  {
   "cell_type": "code",
   "execution_count": 87,
   "metadata": {},
   "outputs": [],
   "source": [
    "class PECA:\n",
    "\n",
    "    #cliente e adverso podem ser lista também (multipartes)#\n",
    "    def __init__(self, peca, cliente, adverso = None):        \n",
    "        \n",
    "        self._carregar_atributos_e_valores(peca)\n",
    "        self._criar_dicionario(cliente, adverso)\n",
    "        self.criar_documento(peca)\n",
    "\n",
    "    def _carregar_atributos_e_valores(self, peca):\n",
    "        self.atributos = str(BUSCA_DADOS(peca).linha['ATRIBUTOS']).strip().upper().split('/')    \n",
    "        self.valores = str(BUSCA_DADOS(peca).linha['VALORES']).strip().split('/')\n",
    "       \n",
    "    def _criar_dicionario(self, cliente, adverso):\n",
    "        self.dicionario = dict(zip(self.atributos, self.valores))\n",
    "        self._atualizar_dicionario_com_parte(cliente)\n",
    "        if adverso:\n",
    "            self._atualizar_dicionario_com_parte(adverso, 'ADVERSO_')  \n",
    "    \n",
    "    def _atualizar_dicionario_com_parte(self, parte, prefixo = 'CLIENTE_'):\n",
    "\n",
    "        def dicionario_se_parte_unica(parte, prefixo):\n",
    "            for chave, valor in PARTE(parte).dicionario.items():\n",
    "                nova_chave = prefixo + chave\n",
    "                self.dicionario[nova_chave] = valor\n",
    "        \n",
    "        #checa o número de parte se é multiplo(lista)#       \n",
    "        if isinstance(parte, str):            \n",
    "            dicionario_se_parte_unica(parte, prefixo)\n",
    "            \n",
    "        else:\n",
    "            dicionario_se_parte_unica(parte[0], prefixo)\n",
    "            self.dicionario['CLIENTE_QUALIFICAÇÃO'] = f\"(1) {self.dicionario['CLIENTE_QUALIFICAÇÃO']}\"\n",
    "\n",
    "            for index, nome in enumerate(parte[1:], start=2):\n",
    "                self.dicionario['CLIENTE_QUALIFICAÇÃO'] += f\" e ({index}) {PARTE(nome).dicionario['QUALIFICAÇÃO']}\"\n",
    "   \n",
    "    def criar_documento(self, peca):           \n",
    "        documento = Document(f\"{self.dicionario['CLIENTE_ESCRITORIO']}\\{peca}.docx\")\n",
    "         \n",
    "        chave_de_substituicao = {'x' + atributo + 'x': str(valor) for atributo, valor in self.dicionario.items()}\n",
    "               \n",
    "        for paragrafo in documento.paragraphs:\n",
    "            for chave in chave_de_substituicao:\n",
    "                if chave in paragrafo.text:\n",
    "                    paragrafo.text = paragrafo.text.replace(chave, chave_de_substituicao[chave])\n",
    "                      \n",
    "        try:\n",
    "            documento.save(f\"Documentos Prontos\\{peca} - {self.dicionario['CLIENTE_NOME']} x {self.dicionario['ADVERSO_NOME']}.docx\")\n",
    "        except:\n",
    "            documento.save(f\"Documentos Prontos\\{peca} - {self.dicionario['CLIENTE_NOME']}.docx\")"
   ]
  },
  {
   "cell_type": "code",
   "execution_count": 88,
   "metadata": {},
   "outputs": [
    {
     "name": "stdout",
     "output_type": "stream",
     "text": [
      "<class 'list'>\n"
     ]
    }
   ],
   "source": [
    "lista = ['Fabiano Darc Arantes', 'Sandra Segarra', 'R. N. Locação e Administração de Bens Próprios LTDA.']\n",
    "cliente = 'Residencial Miosotis'\n",
    "\n",
    "x = PECA('Procuração', cliente)\n",
    "x = PECA('Procuração', lista)\n",
    "\n",
    "print(type(lista))"
   ]
  }
 ],
 "metadata": {
  "kernelspec": {
   "display_name": "Python 3",
   "language": "python",
   "name": "python3"
  },
  "language_info": {
   "codemirror_mode": {
    "name": "ipython",
    "version": 3
   },
   "file_extension": ".py",
   "mimetype": "text/x-python",
   "name": "python",
   "nbconvert_exporter": "python",
   "pygments_lexer": "ipython3",
   "version": "3.11.0"
  },
  "orig_nbformat": 4,
  "vscode": {
   "interpreter": {
    "hash": "0c1c5be3599bae2a30863c990c2ce2fbcdf3e5de40fde5c3be83ad292c296199"
   }
  }
 },
 "nbformat": 4,
 "nbformat_minor": 2
}
