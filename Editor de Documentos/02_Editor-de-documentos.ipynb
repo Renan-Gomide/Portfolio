{
 "cells": [
  {
   "cell_type": "markdown",
   "metadata": {},
   "source": [
    "Importandos todas as Bibliotecas necessárias."
   ]
  },
  {
   "cell_type": "code",
   "execution_count": 53,
   "metadata": {},
   "outputs": [],
   "source": [
    "import pandas as pd\n",
    "from docx import Document\n",
    "from docx.shared import Pt\n",
    "from docx.enum.text import WD_PARAGRAPH_ALIGNMENT\n",
    "from docx2pdf import convert\n",
    "import time"
   ]
  },
  {
   "cell_type": "markdown",
   "metadata": {},
   "source": [
    "Classe que realiza a busca de dados na planilha do Excel e retorna um dicionário:<br>\n",
    " * Se não for especificada a aba, ele irá buscar em todas as abas até encontrar a primeira ocorrência;\n",
    "\n",
    " * Se a célula for vazia, a mesma será excluído do dicionário;\n",
    " \n",
    " * Importante analisar a ordem das abas, abas com valores únicos devem ser as primeiras da planilha;\n",
    "\n",
    " * Se na célular houver valores separados por ';' será criada uma lista com os valores separados pelo ';'."
   ]
  },
  {
   "cell_type": "code",
   "execution_count": 4,
   "metadata": {},
   "outputs": [],
   "source": [
    "class BuscarDados:\n",
    "\n",
    "    def __init__(self, valor, aba=None):\n",
    "        \n",
    "        if not aba:\n",
    "            banco_de_dados = pd.read_excel('01_Cadastro.xlsm', sheet_name=None)\n",
    "            for dados_aba in banco_de_dados.values():\n",
    "                if valor in dados_aba.values:\n",
    "                    banco_de_dados = dados_aba\n",
    "                    break\n",
    "            else:\n",
    "                raise ValueError('O valor não foi encontrado nas abas do arquivo')\n",
    "\n",
    "        else:\n",
    "            banco_de_dados = pd.read_excel('01_Cadastro.xlsm', sheet_name = aba)\n",
    "            if valor not in banco_de_dados.values:\n",
    "                raise ValueError('O valor não foi encontrado nas abas do arquivo')\n",
    "\n",
    "        linha = banco_de_dados.loc[banco_de_dados.isin([valor]).any(axis = 1)].iloc[0].dropna().astype(str)\n",
    "        self.dicionario = {indice: valor.split(';') if ';' in valor\n",
    "                            else valor for indice, valor in linha.items()}\n",
    "        \n",
    "        if 'ATRIBUTOS' in self.dicionario:            \n",
    "            if isinstance(self.dicionario['ATRIBUTOS'], str):\n",
    "                self.dicionario[self.dicionario.pop('ATRIBUTOS')] = self.dicionario.pop('VALORES')\n",
    "            else:\n",
    "                self.dicionario.update(dict(zip(self.dicionario.pop('ATRIBUTOS'), self.dicionario.pop('VALORES'))))"
   ]
  },
  {
   "cell_type": "markdown",
   "metadata": {},
   "source": [
    "Classe que cria um dicionária da Parte procurada:\n",
    "* As chaves do dicionário são os atributos da parte, com seus valores como os valores;\n",
    "\n",
    "* Qualquer atributo pode ser usado para buscar a parte (nome, cpf, cnpj, etc...)."
   ]
  },
  {
   "cell_type": "code",
   "execution_count": 5,
   "metadata": {},
   "outputs": [],
   "source": [
    "class QualificarParte:\n",
    "    \n",
    "    def __init__(self, parte):\n",
    "        \n",
    "        self.dicionario = BuscarDados(parte).dicionario\n",
    "        self._agrupar_endereco()\n",
    "        self._qualificar_parte()\n",
    "          \n",
    "    def _agrupar_endereco(self):\n",
    "        \n",
    "        self.dicionario['NUMERO_COMPLEMENTO'] = (f\"{self.dicionario['NUMERO']} - {self.dicionario['COMPLEMENTO']}\"\n",
    "                                                if 'COMPLEMENTO' in self.dicionario else self.dicionario['NUMERO'])\n",
    "                \n",
    "        self.dicionario['ENDERECO'] = '{}, nº {}, Bairro {}, CEP {}, {}/{}'.format(\n",
    "                                        self.dicionario['LOGRADOURO'], self.dicionario['NUMERO_COMPLEMENTO'],\n",
    "                                        self.dicionario['BAIRRO'], self.dicionario['CEP'],\n",
    "                                        self.dicionario['CIDADE'], self.dicionario['UF']\n",
    "                                        )\n",
    "   \n",
    "    def _qualificar_parte(self):\n",
    "\n",
    "        if 'CPF' in self.dicionario:\n",
    "            self.dicionario['QUALIFICAÇÃO'] = '{}, {}, {}, {}, RG n° {} {}, CPF n° {}, e-mail: {}, com endereço à {}'.format(\n",
    "                                                self.dicionario['NOME'], self.dicionario['NACIONALIDADE'], self.dicionario['ESTADO_CIVIL'],\n",
    "                                                self.dicionario['PROFISSAO'], self.dicionario['RG'], self.dicionario['EXPEDIDOR_RG'],\n",
    "                                                self.dicionario['CPF'], self.dicionario['EMAIL'],self.dicionario['ENDERECO']\n",
    "                                                )\n",
    "\n",
    "        elif 'TAG' in self.dicionario and self.dicionario['TAG'] == 'condominio':\n",
    "            self.dicionario['QUALIFICAÇÃO'] = ('{}, inscrito no CNPJ n° {}, com endereço à {}, devidamente representado neste ato '\n",
    "                                               'pelo seu síndico(a) {}'.format(\n",
    "                                                self.dicionario['NOME'], self.dicionario['CNPJ'],\n",
    "                                                self.dicionario['ENDERECO'], self.dicionario['ADMINISTRADOR'])\n",
    "                                                )\n",
    "            \n",
    "        else:\n",
    "            self.dicionario['QUALIFICAÇÃO'] = ('{}, pessoa jurídica inscrita no CNPJ n° {}, com endereço à {}, devidamente '\n",
    "                                                'representada neste ato pelo(a) sócio(a) {}').format(\n",
    "                                                self.dicionario['NOME'], self.dicionario['CNPJ'],\n",
    "                                                self.dicionario['ENDERECO'], self.dicionario['ADMINISTRADOR']\n",
    "                                                )"
   ]
  },
  {
   "cell_type": "markdown",
   "metadata": {},
   "source": [
    "Classe que cria um dicionário do documento procurado:\n",
    "* O documento deve ser procurado pelo ID (pois é o atributo único dele);\n",
    "\n",
    "* O cliente ou o adverso podem ser mais de uma pessoa;\n",
    "\n",
    "* O adverso é opcional."
   ]
  },
  {
   "cell_type": "code",
   "execution_count": 6,
   "metadata": {},
   "outputs": [],
   "source": [
    "class CriarDocumento:\n",
    "    \n",
    "    def __init__(self, id_documento):\n",
    "        \n",
    "        self.dicionario = BuscarDados(id_documento, 'Peticoes').dicionario\n",
    "        self._dicionario_parte(self.dicionario['CLIENTE'])\n",
    "        if 'ADVERSO' in self.dicionario:\n",
    "            self._dicionario_parte(self.dicionario['ADVERSO'], 'ADVERSO_')\n",
    "\n",
    "    def _dicionario_parte(self, parte_do_documento, prefixo = 'CLIENTE_'):\n",
    "        \n",
    "        def dicionario_se_parte_unica(parte_do_documento, prefixo):\n",
    "            for chave, valor in QualificarParte(parte_do_documento).dicionario.items():\n",
    "                nova_chave = prefixo + chave\n",
    "                self.dicionario[nova_chave] = valor\n",
    "        \n",
    "        # Checa o número de parte se é multiplo (lista).\n",
    "        if isinstance(parte_do_documento, str):\n",
    "            dicionario_se_parte_unica(parte_do_documento, prefixo)\n",
    "        \n",
    "        else:\n",
    "            dicionario_se_parte_unica(parte_do_documento[0], prefixo)\n",
    "            self.dicionario[prefixo+'QUALIFICAÇÃO'] = f\"(1){self.dicionario[prefixo+'QUALIFICAÇÃO']}\"\n",
    "            self.dicionario['(1)'+prefixo+'QUALIFICAÇÃO'] = self.dicionario[prefixo+'QUALIFICAÇÃO']\n",
    "            \n",
    "            for index, nome in enumerate(parte_do_documento[1:], start=2):\n",
    "                self.dicionario[prefixo+'QUALIFICAÇÃO'] += f\" e ({index}){QualificarParte(nome).dicionario['QUALIFICAÇÃO']}\"\n",
    "                prefixo2 = f'({index})' + prefixo\n",
    "                dicionario_se_parte_unica(nome, prefixo2)"
   ]
  },
  {
   "cell_type": "markdown",
   "metadata": {},
   "source": [
    "Substitui os placeholders(chaves) de um arquivo docx pelos valores contidos nas chaves do dicionário criado com 'CriarDocumento'.<br>\n",
    "\n",
    "Na sequência, salva em um arquivo docx em uma pasta já especificada e converte também em pdf."
   ]
  },
  {
   "cell_type": "code",
   "execution_count": 72,
   "metadata": {},
   "outputs": [],
   "source": [
    "class CriarDocxPdf:\n",
    "\n",
    "    def __init__(self, id_documento):\n",
    "        \n",
    "        dicionario = CriarDocumento(id_documento).dicionario\n",
    "        docx = Document(f\"01_Modelos\\{dicionario['PECA']}.docx\")\n",
    "        dicionario_de_substituicao = {'x' + chave.upper() + 'x': valor for chave, valor in dicionario.items()}\n",
    "        \n",
    "        for paragrafo in docx.paragraphs:\n",
    "            for chave in dicionario_de_substituicao:\n",
    "                if chave in paragrafo.text:\n",
    "                    paragrafo.text = paragrafo.text.replace(chave, dicionario_de_substituicao[chave])\n",
    "        \n",
    "        nome_salvo = (f\"{dicionario['PECA']} - {dicionario['CLIENTE_NOME']} x {dicionario['ADVERSO_NOME']}\"\n",
    "                    if 'ADVERSO_NOME' in dicionario else f\"{dicionario['PECA']} - {dicionario['CLIENTE_NOME']}\")\n",
    "\n",
    "        docx.save(f\"02_Documentos-prontos\\{nome_salvo}.docx\")\n",
    "        convert(f\"02_Documentos-prontos\\{nome_salvo}.docx\", f\"02_Documentos-prontos\\{nome_salvo}.pdf\")"
   ]
  },
  {
   "cell_type": "code",
   "execution_count": null,
   "metadata": {},
   "outputs": [],
   "source": [
    "CriarDocxPdf(1)\n",
    "CriarDocxPdf(2)\n",
    "CriarDocxPdf(3)"
   ]
  },
  {
   "cell_type": "code",
   "execution_count": 10,
   "metadata": {},
   "outputs": [],
   "source": [
    "class processo:\n",
    "\n",
    "    def __init__(self, processo):\n",
    "\n",
    "        self.dicionario = busca_dados(processo).linha.to_dict()\n",
    "\n",
    "class peca:\n",
    "\n",
    "    def __init__(self, peca):\n",
    "\n",
    "        self.dicionario = busca_dados(peca).linha.to_dict()"
   ]
  },
  {
   "cell_type": "code",
   "execution_count": 4,
   "metadata": {},
   "outputs": [
    {
     "name": "stdout",
     "output_type": "stream",
     "text": [
      "vinte e três reais e vinte e três centavos\n"
     ]
    }
   ],
   "source": [
    "from num2words import num2words\n",
    "\n",
    "numero = 23\n",
    "extenso = num2words(numero, lang='pt_BR')\n",
    "\n",
    "print(f'{extenso} reais e {extenso} centavos')\n"
   ]
  },
  {
   "cell_type": "code",
   "execution_count": 11,
   "metadata": {},
   "outputs": [
    {
     "name": "stdout",
     "output_type": "stream",
     "text": [
      "Conexão Bem sucedida\n"
     ]
    }
   ],
   "source": [
    "import pyodbc\n",
    "\n",
    "dados_conexao = ('Driver={SQL Server};Server=DESKTOP-SMFGJPJ\\SQLEXPRESS;Database=teste')\n",
    "conexao = pyodbc.connect(dados_conexao)\n",
    "print('Conexão Bem sucedida')\n",
    "cursor = conexao.cursor()\n",
    "cursor.execute(\"SELECT * FROM nome\")\n",
    "cursor.commit()\n",
    "cursor.close()\n",
    "conexao.close()\n"
   ]
  },
  {
   "cell_type": "code",
   "execution_count": null,
   "metadata": {},
   "outputs": [],
   "source": [
    "cursor.execute(\"INSERT INTO tabela_origem (campo1, campo2) VALUES (?, ?)\", valor1, valor2)\n",
    "\n",
    "# Obter o ID do último registro inserido\n",
    "cursor.execute(\"SELECT SCOPE_IDENTITY() AS LastID\")\n",
    "id_origem = cursor.fetchone().LastID\n",
    "\n",
    "# Inserir dados na tabela de destino usando o ID da tabela de origem\n",
    "cursor.execute(\"INSERT INTO tabela_destino (id_origem, campo3, campo4) VALUES (?, ?, ?)\", id_origem, valor3, valor4)\n",
    "\n",
    "# Confirmar as alterações\n",
    "cursor.commit()\n",
    "\n",
    "\n"
   ]
  }
 ],
 "metadata": {
  "kernelspec": {
   "display_name": "Python 3",
   "language": "python",
   "name": "python3"
  },
  "language_info": {
   "codemirror_mode": {
    "name": "ipython",
    "version": 3
   },
   "file_extension": ".py",
   "mimetype": "text/x-python",
   "name": "python",
   "nbconvert_exporter": "python",
   "pygments_lexer": "ipython3",
   "version": "3.11.2"
  },
  "orig_nbformat": 4,
  "vscode": {
   "interpreter": {
    "hash": "0c1c5be3599bae2a30863c990c2ce2fbcdf3e5de40fde5c3be83ad292c296199"
   }
  }
 },
 "nbformat": 4,
 "nbformat_minor": 2
}
