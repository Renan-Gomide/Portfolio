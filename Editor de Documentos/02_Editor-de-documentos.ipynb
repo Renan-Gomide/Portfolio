{
 "cells": [
  {
   "cell_type": "markdown",
   "metadata": {},
   "source": [
    "Importandos todas as Bibliotecas necessárias."
   ]
  },
  {
   "cell_type": "code",
   "execution_count": 2,
   "metadata": {},
   "outputs": [],
   "source": [
    "import pandas as pd\n",
    "from docx import Document\n",
    "from docx.shared import Pt\n",
    "from docx.enum.text import WD_PARAGRAPH_ALIGNMENT\n",
    "from docx2pdf import convert"
   ]
  },
  {
   "cell_type": "markdown",
   "metadata": {},
   "source": [
    "Classe que realiza a busca de dados na planilha do Excel e retorna uma Series do Pandas:<br>\n",
    " * Se não for especificada a aba, ele irá buscar em todas as abas até encontrar a primeira ocorrência;\n",
    " \n",
    " * Importante analisar a ordem das abas, abas com valores únicos devem ser as primeiras da planilha;\n",
    "\n",
    " * Se na célular houver valores separados por ';' será criada uma lista com os valores separados pelo ';'."
   ]
  },
  {
   "cell_type": "code",
   "execution_count": 73,
   "metadata": {},
   "outputs": [],
   "source": [
    "class BuscarDados:\n",
    "\n",
    "    def __init__(self, valor, aba=None):\n",
    "        \n",
    "        if not aba:\n",
    "            banco_de_dados = pd.read_excel('01_Cadastro.xlsm', sheet_name=None)\n",
    "            for dados_aba in banco_de_dados.values():\n",
    "                if valor in dados_aba.values:\n",
    "                    banco_de_dados = dados_aba\n",
    "                    break\n",
    "            else:\n",
    "                raise ValueError('O valor não foi encontrado nas abas do arquivo')\n",
    "\n",
    "        else:\n",
    "            banco_de_dados = pd.read_excel('01_Cadastro.xlsm', sheet_name = aba)\n",
    "            if valor not in banco_de_dados.values:\n",
    "                raise ValueError('O valor não foi encontrado nas abas do arquivo')\n",
    "        \n",
    "        linha = banco_de_dados.loc[banco_de_dados.isin([valor]).any(axis = 1)].iloc[0].astype(str)\n",
    "        self.dicionario = {indice: valor.split(';') if ';' in valor\n",
    "                            else valor for indice, valor in linha.items()}"
   ]
  },
  {
   "cell_type": "code",
   "execution_count": 74,
   "metadata": {},
   "outputs": [
    {
     "name": "stderr",
     "output_type": "stream",
     "text": [
      "c:\\Users\\Alberto\\AppData\\Local\\Programs\\Python\\Python311\\Lib\\site-packages\\openpyxl\\worksheet\\_reader.py:329: UserWarning: Data Validation extension is not supported and will be removed\n",
      "  warn(msg)\n"
     ]
    },
    {
     "data": {
      "text/plain": [
       "{'ID_PETICAO': '2',\n",
       " 'PROCESSO': 'inicial',\n",
       " 'CLIENTE': '0',\n",
       " 'ADVERSO': '0',\n",
       " 'PECA': 'GFA_Execucao-de-condominio',\n",
       " 'ATRIBUTOS': ['Unidade_Devedora', 'Matricula_do_Imovel', 'CRI', 'Debito'],\n",
       " 'VALORES': ['12', '12', 'abc', 'zzz']}"
      ]
     },
     "execution_count": 74,
     "metadata": {},
     "output_type": "execute_result"
    }
   ],
   "source": [
    "BuscarDados(2,'Peticoes').dicionario\n"
   ]
  },
  {
   "cell_type": "markdown",
   "metadata": {},
   "source": [
    "Classe que cria um dicionária da Parte procurada:\n",
    "* As chaves do dicionário são os atributos da parte, com seus valores como os valores;\n",
    "\n",
    "* Qualquer atributo pode ser usado para buscar a parte (nome, cpf, cnpj, etc...)."
   ]
  },
  {
   "cell_type": "code",
   "execution_count": 61,
   "metadata": {},
   "outputs": [],
   "source": [
    "class QualificarParte:\n",
    "    \n",
    "    def __init__(self, parte):\n",
    "        \n",
    "        self.dicionario = BuscarDados(parte).dicionario\n",
    "        self._agrupar_endereco()\n",
    "        self._qualificar_parte()\n",
    "          \n",
    "    def _agrupar_endereco(self):\n",
    "\n",
    "        self.dicionario['NUMERO_COMPLEMENTO'] = (f\"{self.dicionario['NUMERO']} - {self.dicionario['COMPLEMENTO']}\"\n",
    "                                                if self.dicionario['COMPLEMENTO'] is True\n",
    "                                                else self.dicionario['NUMERO'])\n",
    "                \n",
    "        self.dicionario['ENDERECO'] = '{}, nº {}, Bairro {}, CEP {}, {}/{}'.format(\n",
    "                                        self.dicionario['LOGRADOURO'], self.dicionario['NUMERO_COMPLEMENTO'],\n",
    "                                        self.dicionario['BAIRRO'], self.dicionario['CEP'],\n",
    "                                        self.dicionario['CIDADE'], self.dicionario['UF']\n",
    "                                        )\n",
    "   \n",
    "    def _qualificar_parte(self):\n",
    "\n",
    "        if 'CPF' in self.dicionario:\n",
    "            self.dicionario['QUALIFICAÇÃO'] = '{}, {}, {}, {}, RG n° {} {}, CPF n° {}, e-mail: {}, com endereço à {}'.format(\n",
    "                                                self.dicionario['NOME'], self.dicionario['NACIONALIDADE'], self.dicionario['ESTADO_CIVIL'],\n",
    "                                                self.dicionario['PROFISSAO'], self.dicionario['RG'], self.dicionario['EXPEDIDOR_RG'],\n",
    "                                                self.dicionario['CPF'], self.dicionario['EMAIL'],self.dicionario['ENDERECO']\n",
    "                                                )\n",
    "\n",
    "        elif self.dicionario['TAG'] == 'condominio':\n",
    "            self.dicionario['QUALIFICAÇÃO'] = ('{}, inscrito no CNPJ n° {}, com endereço à {}, devidamente representado neste ato '\n",
    "                                               'pelo seu síndico(a) {}'.format(\n",
    "                                                self.dicionario['NOME'], self.dicionario['CNPJ'],\n",
    "                                                self.dicionario['ENDERECO'], self.dicionario['ADMINISTRADOR'])\n",
    "                                                )\n",
    "            \n",
    "        else:\n",
    "            self.dicionario['QUALIFICAÇÃO'] = ('{}, pessoa jurídica inscrita no CNPJ n° {}, com endereço à {}, devidamente '\n",
    "                                                'representada neste ato pelo(a) sócio(a) {}').format(\n",
    "                                                self.dicionario['NOME'], self.dicionario['CNPJ'],\n",
    "                                                self.dicionario['ENDERECO'], self.dicionario['ADMINISTRADOR']\n",
    "                                                )"
   ]
  },
  {
   "cell_type": "markdown",
   "metadata": {},
   "source": [
    "Classe que cria um dicionário do documento procurado:\n",
    "* O documento deve ser procurado pelo ID (atributo único dele);\n",
    "\n",
    "* O cliente ou o adverso podem ser mais de uma pessoa."
   ]
  },
  {
   "cell_type": "code",
   "execution_count": 98,
   "metadata": {},
   "outputs": [
    {
     "name": "stderr",
     "output_type": "stream",
     "text": [
      "c:\\Users\\Alberto\\AppData\\Local\\Programs\\Python\\Python311\\Lib\\site-packages\\openpyxl\\worksheet\\_reader.py:329: UserWarning: Data Validation extension is not supported and will be removed\n",
      "  warn(msg)\n"
     ]
    },
    {
     "data": {
      "text/plain": [
       "{'ID_PETICAO': '1',\n",
       " 'PROCESSO': 'inicial',\n",
       " 'CLIENTE': 'Edificio Vivare Residence',\n",
       " 'ADVERSO': '0',\n",
       " 'PECA': 'GFA_Procuracao-de-condominio',\n",
       " 'U': '1',\n",
       " 'N': '1'}"
      ]
     },
     "execution_count": 98,
     "metadata": {},
     "output_type": "execute_result"
    }
   ],
   "source": [
    "x = CriarDocumento(1)\n",
    "x.dicionario"
   ]
  },
  {
   "cell_type": "code",
   "execution_count": 95,
   "metadata": {},
   "outputs": [],
   "source": [
    "class CriarDocumento:\n",
    "            \n",
    "    def __init__(self, documento):\n",
    "        \n",
    "        self.dicionario = BuscarDados(documento, 'Peticoes').dicionario\n",
    "        self.dicionario.update(dict(zip(self.dicionario.pop('ATRIBUTOS'), self.dicionario.pop('VALORES'))))\n",
    "\n",
    "    '''\n",
    "\n",
    "    for chave, valor in QualificarParte(self.dicionario['CLIENTE']).dicionario.items():\n",
    "            nova_chave = 'CLIENTE_' + chave\n",
    "            self.dicionario[nova_chave] = valor\n",
    "\n",
    "        if self.dicionario['ADVERSO'] == True:\n",
    "            for chave, valor in QualificarParte(self.dicionario['ADVERSO']).dicionario.items():\n",
    "                nova_chave = 'ADVERSO_' + chave\n",
    "                self.dicionario[nova_chave] = valor\n",
    "\n",
    "\n",
    "        if self.dicionario['ADVERSO'] == True:\n",
    "            self._atualizar_dicionario_com_parte(self.dicionario['ADVERSO'], 'ADVERSO_')  \n",
    "    \n",
    "    def _atualizar_dicionario_com_parte(self, parte_do_documento, prefixo = 'CLIENTE_'):\n",
    "\n",
    "        def dicionario_se_parte_unica(parte_do_documento, prefixo):\n",
    "            for chave, valor in QualificarParte(parte_do_documento).dicionario.items():\n",
    "                nova_chave = prefixo + chave\n",
    "                self.dicionario[nova_chave] = valor\n",
    "        \n",
    "        #checa o número de parte se é multiplo(lista)#       \n",
    "        if isinstance(parte_do_documento, str):            \n",
    "            dicionario_se_parte_unica(parte_do_documento, prefixo)\n",
    "            \n",
    "        else:\n",
    "            dicionario_se_parte_unica(parte_do_documento[0], prefixo)\n",
    "            self.dicionario['CLIENTE_QUALIFICAÇÃO'] = f\"(1) {self.dicionario['CLIENTE_QUALIFICAÇÃO']}\"\n",
    "\n",
    "            for index, nome in enumerate(parte_do_documento[1:], start=2):\n",
    "                self.dicionario['CLIENTE_QUALIFICAÇÃO'] += f\" e ({index}) {QualificarParte(nome).dicionario['QUALIFICAÇÃO']}\"    '''"
   ]
  },
  {
   "cell_type": "code",
   "execution_count": 90,
   "metadata": {},
   "outputs": [
    {
     "name": "stderr",
     "output_type": "stream",
     "text": [
      "c:\\Users\\Alberto\\AppData\\Local\\Programs\\Python\\Python311\\Lib\\site-packages\\openpyxl\\worksheet\\_reader.py:329: UserWarning: Data Validation extension is not supported and will be removed\n",
      "  warn(msg)\n"
     ]
    },
    {
     "data": {
      "text/plain": [
       "{'ID_PETICAO': '2',\n",
       " 'PROCESSO': 'inicial',\n",
       " 'CLIENTE': '0',\n",
       " 'ADVERSO': '0',\n",
       " 'PECA': 'GFA_Execucao-de-condominio',\n",
       " 'ATRIBUTOS': ['Unidade_Devedora', 'Matricula_do_Imovel', 'CRI', 'Debito'],\n",
       " 'VALORES': ['12', '12', 'abc', 'zzz'],\n",
       " 'Unidade_Devedora': '12',\n",
       " 'Matricula_do_Imovel': '12',\n",
       " 'CRI': 'abc',\n",
       " 'Debito': 'zzz'}"
      ]
     },
     "execution_count": 90,
     "metadata": {},
     "output_type": "execute_result"
    }
   ],
   "source": [
    "x = CriarDocumento(2)\n",
    "x.dicionario\n"
   ]
  },
  {
   "cell_type": "code",
   "execution_count": 381,
   "metadata": {},
   "outputs": [],
   "source": [
    "class iniciar_documento:\n",
    "            \n",
    "    def __init__(self, documento, cliente, adverso = None):        \n",
    "        \n",
    "        self.dicionario = BuscarDados(documento, 'Peticoes').dicionario\n",
    "        self._carregar_atributos_e_valores(documento)\n",
    "        self._criar_dicionario(cliente, adverso)\n",
    "       \n",
    "\n",
    "    def _carregar_atributos_e_valores(self, documento):\n",
    "        self.atributos = self.dicionario['ATRIBUTOS'].strip().upper().split('/')\n",
    "        self.valores = self.dicionario['VALORES'].strip().split('/')\n",
    "       \n",
    "    def _criar_dicionario(self, cliente, adverso):\n",
    "        self.dicionario = dict(zip(self.atributos, self.valores))\n",
    "        self._atualizar_dicionario_com_parte(cliente)\n",
    "        if adverso:\n",
    "            self._atualizar_dicionario_com_parte(adverso, 'ADVERSO_')  \n",
    "    \n",
    "    def _atualizar_dicionario_com_parte(self, parte_do_documento, prefixo = 'CLIENTE_'):\n",
    "\n",
    "        def dicionario_se_parte_unica(parte_do_documento, prefixo):\n",
    "            for chave, valor in QualificarParte(parte_do_documento).dicionario.items():\n",
    "                nova_chave = prefixo + chave\n",
    "                self.dicionario[nova_chave] = valor\n",
    "        \n",
    "        #checa o número de parte se é multiplo(lista)#       \n",
    "        if isinstance(parte_do_documento, str):            \n",
    "            dicionario_se_parte_unica(parte_do_documento, prefixo)\n",
    "            \n",
    "        else:\n",
    "            dicionario_se_parte_unica(parte_do_documento[0], prefixo)\n",
    "            self.dicionario['CLIENTE_QUALIFICAÇÃO'] = f\"(1) {self.dicionario['CLIENTE_QUALIFICAÇÃO']}\"\n",
    "\n",
    "            for index, nome in enumerate(parte_do_documento[1:], start=2):\n",
    "                self.dicionario['CLIENTE_QUALIFICAÇÃO'] += f\" e ({index}) {QualificarParte(nome).dicionario['QUALIFICAÇÃO']}\"    "
   ]
  },
  {
   "cell_type": "code",
   "execution_count": 309,
   "metadata": {},
   "outputs": [
    {
     "name": "stderr",
     "output_type": "stream",
     "text": [
      "c:\\Users\\Alberto\\AppData\\Local\\Programs\\Python\\Python311\\Lib\\site-packages\\openpyxl\\worksheet\\_reader.py:329: UserWarning: Data Validation extension is not supported and will be removed\n",
      "  warn(msg)\n"
     ]
    },
    {
     "ename": "AttributeError",
     "evalue": "'float' object has no attribute 'strip'",
     "output_type": "error",
     "traceback": [
      "\u001b[1;31m---------------------------------------------------------------------------\u001b[0m",
      "\u001b[1;31mAttributeError\u001b[0m                            Traceback (most recent call last)",
      "Cell \u001b[1;32mIn[309], line 1\u001b[0m\n\u001b[1;32m----> 1\u001b[0m criar_docx_e_pdf(\u001b[39m'\u001b[39;49m\u001b[39mGFA_Procuracao-de-condominio\u001b[39;49m\u001b[39m'\u001b[39;49m, \u001b[39m'\u001b[39;49m\u001b[39mResidencial Luiz Roberto Luize\u001b[39;49m\u001b[39m'\u001b[39;49m)\n",
      "Cell \u001b[1;32mIn[308], line 7\u001b[0m, in \u001b[0;36mcriar_docx_e_pdf.__init__\u001b[1;34m(self, nome_documento, cliente, adverso)\u001b[0m\n\u001b[0;32m      5\u001b[0m \u001b[39mdef\u001b[39;00m \u001b[39m__init__\u001b[39m(\u001b[39mself\u001b[39m, nome_documento, cliente, adverso \u001b[39m=\u001b[39m \u001b[39mNone\u001b[39;00m):\n\u001b[1;32m----> 7\u001b[0m     dicionario \u001b[39m=\u001b[39m iniciar_documento(nome_documento, cliente, adverso)\u001b[39m.\u001b[39mdicionario\n\u001b[0;32m      9\u001b[0m     docx \u001b[39m=\u001b[39m Document(\u001b[39mf\u001b[39m\u001b[39m\"\u001b[39m\u001b[39m01_Modelos\u001b[39m\u001b[39m\\\u001b[39m\u001b[39m{\u001b[39;00mnome_documento\u001b[39m}\u001b[39;00m\u001b[39m.docx\u001b[39m\u001b[39m\"\u001b[39m)\n\u001b[0;32m     11\u001b[0m     chave_de_substituicao \u001b[39m=\u001b[39m {\u001b[39m'\u001b[39m\u001b[39mx\u001b[39m\u001b[39m'\u001b[39m \u001b[39m+\u001b[39m atributo \u001b[39m+\u001b[39m \u001b[39m'\u001b[39m\u001b[39mx\u001b[39m\u001b[39m'\u001b[39m: \u001b[39mstr\u001b[39m(valor) \u001b[39mfor\u001b[39;00m atributo, valor \u001b[39min\u001b[39;00m dicionario\u001b[39m.\u001b[39mitems()}\n",
      "Cell \u001b[1;32mIn[263], line 6\u001b[0m, in \u001b[0;36miniciar_documento.__init__\u001b[1;34m(self, documento, cliente, adverso)\u001b[0m\n\u001b[0;32m      3\u001b[0m \u001b[39mdef\u001b[39;00m \u001b[39m__init__\u001b[39m(\u001b[39mself\u001b[39m, documento, cliente, adverso \u001b[39m=\u001b[39m \u001b[39mNone\u001b[39;00m):        \n\u001b[0;32m      5\u001b[0m     \u001b[39mself\u001b[39m\u001b[39m.\u001b[39mdicionario \u001b[39m=\u001b[39m buscar_dados(documento, \u001b[39m'\u001b[39m\u001b[39mPeticoes\u001b[39m\u001b[39m'\u001b[39m)\u001b[39m.\u001b[39mdicionario\n\u001b[1;32m----> 6\u001b[0m     \u001b[39mself\u001b[39;49m\u001b[39m.\u001b[39;49m_carregar_atributos_e_valores(documento)\n\u001b[0;32m      7\u001b[0m     \u001b[39mself\u001b[39m\u001b[39m.\u001b[39m_criar_dicionario(cliente, adverso)\n",
      "Cell \u001b[1;32mIn[263], line 12\u001b[0m, in \u001b[0;36miniciar_documento._carregar_atributos_e_valores\u001b[1;34m(self, documento)\u001b[0m\n\u001b[0;32m     10\u001b[0m \u001b[39mdef\u001b[39;00m \u001b[39m_carregar_atributos_e_valores\u001b[39m(\u001b[39mself\u001b[39m, documento):\n\u001b[0;32m     11\u001b[0m     \u001b[39mself\u001b[39m\u001b[39m.\u001b[39matributos \u001b[39m=\u001b[39m \u001b[39mself\u001b[39m\u001b[39m.\u001b[39mdicionario[\u001b[39m'\u001b[39m\u001b[39mATRIBUTOS\u001b[39m\u001b[39m'\u001b[39m]\u001b[39m.\u001b[39mstrip()\u001b[39m.\u001b[39mupper()\u001b[39m.\u001b[39msplit(\u001b[39m'\u001b[39m\u001b[39m/\u001b[39m\u001b[39m'\u001b[39m)\n\u001b[1;32m---> 12\u001b[0m     \u001b[39mself\u001b[39m\u001b[39m.\u001b[39mvalores \u001b[39m=\u001b[39m \u001b[39mself\u001b[39;49m\u001b[39m.\u001b[39;49mdicionario[\u001b[39m'\u001b[39;49m\u001b[39mVALORES\u001b[39;49m\u001b[39m'\u001b[39;49m]\u001b[39m.\u001b[39;49mstrip()\u001b[39m.\u001b[39msplit(\u001b[39m'\u001b[39m\u001b[39m/\u001b[39m\u001b[39m'\u001b[39m)\n",
      "\u001b[1;31mAttributeError\u001b[0m: 'float' object has no attribute 'strip'"
     ]
    }
   ],
   "source": [
    "criar_docx_e_pdf('GFA_Procuracao-de-condominio', 'Residencial Luiz Roberto Luize')"
   ]
  },
  {
   "cell_type": "code",
   "execution_count": 308,
   "metadata": {},
   "outputs": [],
   "source": [
    "#CORRIGR A BUSCA DO DOCUMENTO, TEM QUE SER PELO NUMERO DA PETICAO\n",
    "\n",
    "class criar_docx_e_pdf:\n",
    "\n",
    "    def __init__(self, nome_documento, cliente, adverso = None):\n",
    "\n",
    "        dicionario = iniciar_documento(nome_documento, cliente, adverso).dicionario\n",
    "        \n",
    "        docx = Document(f\"01_Modelos\\{nome_documento}.docx\")\n",
    "         \n",
    "        chave_de_substituicao = {'x' + atributo + 'x': str(valor) for atributo, valor in dicionario.items()}\n",
    "               \n",
    "        for paragrafo in docx.paragraphs:\n",
    "            for chave in chave_de_substituicao:\n",
    "                if chave in paragrafo.text:\n",
    "                    paragrafo.text = paragrafo.text.replace(chave, chave_de_substituicao[chave])\n",
    "                      \n",
    "        try:\n",
    "            nome_salvo = f\"02_Documentos-prontos\\{nome_documento} - {dicionario['CLIENTE_NOME']} x {dicionario['ADVERSO_NOME']}\"\n",
    "            #docx.save(f\"{nome_salvo}.docx\")\n",
    "            #convert(f\"02_Documentos-prontos\\{nome_salvo}.docx\", f\"02_Documentos-prontos\\{nome_salvo}.pdf\")\n",
    "        except:\n",
    "            nome_salvo = f\"02_Documentos-prontos\\{nome_documento} - {dicionario['CLIENTE_NOME']}\"\n",
    "        docx.save(f\"{nome_salvo}.docx\")\n",
    "        convert(f\"02_Documentos-prontos\\{nome_salvo}.docx\", f\"02_Documentos-prontos\\{nome_salvo}.pdf\")\n",
    "\n",
    "        #Convertendo arquivo word em pdf        \n",
    "        #time.sleep(0.93)\n",
    "        #convert(f\"02_Documentos-prontos\\{nome_salvo}.docx\", f\"02_Documentos-prontos\\{nome_salvo}.pdf\")"
   ]
  },
  {
   "cell_type": "code",
   "execution_count": 10,
   "metadata": {},
   "outputs": [],
   "source": [
    "class processo:\n",
    "\n",
    "    def __init__(self, processo):\n",
    "\n",
    "        self.dicionario = busca_dados(processo).linha.to_dict()\n",
    "\n",
    "class peca:\n",
    "\n",
    "    def __init__(self, peca):\n",
    "\n",
    "        self.dicionario = busca_dados(peca).linha.to_dict()"
   ]
  },
  {
   "cell_type": "code",
   "execution_count": 45,
   "metadata": {},
   "outputs": [
    {
     "name": "stderr",
     "output_type": "stream",
     "text": [
      "c:\\Users\\Alberto\\AppData\\Local\\Programs\\Python\\Python311\\Lib\\site-packages\\openpyxl\\worksheet\\_reader.py:329: UserWarning: Data Validation extension is not supported and will be removed\n",
      "  warn(msg)\n",
      "c:\\Users\\Alberto\\AppData\\Local\\Programs\\Python\\Python311\\Lib\\site-packages\\openpyxl\\worksheet\\_reader.py:329: UserWarning: Data Validation extension is not supported and will be removed\n",
      "  warn(msg)\n",
      "c:\\Users\\Alberto\\AppData\\Local\\Programs\\Python\\Python311\\Lib\\site-packages\\openpyxl\\worksheet\\_reader.py:329: UserWarning: Data Validation extension is not supported and will be removed\n",
      "  warn(msg)\n",
      "c:\\Users\\Alberto\\AppData\\Local\\Programs\\Python\\Python311\\Lib\\site-packages\\openpyxl\\worksheet\\_reader.py:329: UserWarning: Data Validation extension is not supported and will be removed\n",
      "  warn(msg)\n",
      "c:\\Users\\Alberto\\AppData\\Local\\Programs\\Python\\Python311\\Lib\\site-packages\\openpyxl\\worksheet\\_reader.py:329: UserWarning: Data Validation extension is not supported and will be removed\n",
      "  warn(msg)\n",
      "c:\\Users\\Alberto\\AppData\\Local\\Programs\\Python\\Python311\\Lib\\site-packages\\openpyxl\\worksheet\\_reader.py:329: UserWarning: Data Validation extension is not supported and will be removed\n",
      "  warn(msg)\n",
      "c:\\Users\\Alberto\\AppData\\Local\\Programs\\Python\\Python311\\Lib\\site-packages\\openpyxl\\worksheet\\_reader.py:329: UserWarning: Data Validation extension is not supported and will be removed\n",
      "  warn(msg)\n",
      "c:\\Users\\Alberto\\AppData\\Local\\Programs\\Python\\Python311\\Lib\\site-packages\\openpyxl\\worksheet\\_reader.py:329: UserWarning: Data Validation extension is not supported and will be removed\n",
      "  warn(msg)\n"
     ]
    }
   ],
   "source": [
    "#TESTE#\n",
    "lista = ['Residencial Luiz Roberto Luize', 'Edificio Vivare Residence', 'Condominio Edificio Melissa', 'Edifício Anthuriums Place']\n",
    "cliente = 'Residencial Luiz Roberto Luize'\n",
    "\n",
    "for i in lista:\n",
    "    peca('GFA - Procuração de Condomínio', i)\n",
    "\n",
    "#x = peca('GFA - Procuração de Condomínio', lista)\n",
    "#x = PECA('Procuração', lista)\n",
    "\n",
    "#print(type(lista))"
   ]
  },
  {
   "cell_type": "code",
   "execution_count": 4,
   "metadata": {},
   "outputs": [
    {
     "name": "stdout",
     "output_type": "stream",
     "text": [
      "vinte e três reais e vinte e três centavos\n"
     ]
    }
   ],
   "source": [
    "from num2words import num2words\n",
    "\n",
    "numero = 23\n",
    "extenso = num2words(numero, lang='pt_BR')\n",
    "\n",
    "print(f'{extenso} reais e {extenso} centavos')\n"
   ]
  },
  {
   "cell_type": "code",
   "execution_count": 11,
   "metadata": {},
   "outputs": [
    {
     "name": "stdout",
     "output_type": "stream",
     "text": [
      "Conexão Bem sucedida\n"
     ]
    }
   ],
   "source": [
    "import pyodbc\n",
    "\n",
    "dados_conexao = ('Driver={SQL Server};Server=DESKTOP-SMFGJPJ\\SQLEXPRESS;Database=teste')\n",
    "conexao = pyodbc.connect(dados_conexao)\n",
    "print('Conexão Bem sucedida')\n",
    "cursor = conexao.cursor()\n",
    "cursor.execute(\"SELECT * FROM nome\")\n",
    "cursor.commit()\n",
    "cursor.close()\n",
    "conexao.close()\n"
   ]
  },
  {
   "cell_type": "code",
   "execution_count": null,
   "metadata": {},
   "outputs": [],
   "source": [
    "cursor.execute(\"INSERT INTO tabela_origem (campo1, campo2) VALUES (?, ?)\", valor1, valor2)\n",
    "\n",
    "# Obter o ID do último registro inserido\n",
    "cursor.execute(\"SELECT SCOPE_IDENTITY() AS LastID\")\n",
    "id_origem = cursor.fetchone().LastID\n",
    "\n",
    "# Inserir dados na tabela de destino usando o ID da tabela de origem\n",
    "cursor.execute(\"INSERT INTO tabela_destino (id_origem, campo3, campo4) VALUES (?, ?, ?)\", id_origem, valor3, valor4)\n",
    "\n",
    "# Confirmar as alterações\n",
    "cursor.commit()\n",
    "\n",
    "\n"
   ]
  }
 ],
 "metadata": {
  "kernelspec": {
   "display_name": "Python 3",
   "language": "python",
   "name": "python3"
  },
  "language_info": {
   "codemirror_mode": {
    "name": "ipython",
    "version": 3
   },
   "file_extension": ".py",
   "mimetype": "text/x-python",
   "name": "python",
   "nbconvert_exporter": "python",
   "pygments_lexer": "ipython3",
   "version": "3.11.2"
  },
  "orig_nbformat": 4,
  "vscode": {
   "interpreter": {
    "hash": "0c1c5be3599bae2a30863c990c2ce2fbcdf3e5de40fde5c3be83ad292c296199"
   }
  }
 },
 "nbformat": 4,
 "nbformat_minor": 2
}
