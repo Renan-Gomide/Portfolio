{
 "cells": [
  {
   "cell_type": "code",
   "execution_count": 1,
   "metadata": {},
   "outputs": [],
   "source": [
    "#Importando as bibliotecas que usarei: Pandas, Docx, (Datetime e Time?)\n",
    "import pandas as pd\n",
    "from docx import Document\n",
    "from docx.shared import Pt\n",
    "from docx.enum.text import WD_PARAGRAPH_ALIGNMENT"
   ]
  },
  {
   "cell_type": "code",
   "execution_count": 2,
   "metadata": {},
   "outputs": [],
   "source": [
    "#Criar Classe PF\n",
    "class PF:\n",
    "\n",
    "    #Busca no Banco de Dados pelo parametro 'busca' na 'coluna' (parametro opcional, padrão \"xNOMEx\")\n",
    "    def __init__(self, busca, coluna='xNOMEx', aba=\"PF\"):\n",
    "        \n",
    "        #Carrega o BD (fornecer nome do arquivo excel e nome da aba da planilha) e converter o BD em string\n",
    "        self.bd = pd.read_excel(\"0. Cadastro.xlsm\", aba).astype(str)\n",
    "              \n",
    "        #retorna a linha com a busca e o index, indice 0 para retornar apenas o numero da linha\n",
    "        self.linha = self.bd[self.bd[coluna] == busca].index[0]\n",
    "\n",
    "        #cria o dicionário, sendo as colunas as chaves (a linha é o indice 0 da lista que retornou a \"busca\")\n",
    "        self.dicionario = dict(self.bd.iloc[self.linha])\n",
    "        \n",
    "        #adiciona o atributo endereço ao dicionário\n",
    "        self._endereco()\n",
    "        #adiciona o atributo cliente ao dicionário\n",
    "        self._qualificacao()\n",
    "        \n",
    "    #FUNÇÕES PARA SEREM USADAS INTERNAMENTE NA CLASSE\n",
    "   \n",
    "    def _endereco(self):\n",
    "        #junta tudo em um só atributo\n",
    "        if self.dicionario['xCOMPLEMENTOx'] != 'nan':\n",
    "            self.dicionario['xNUMEROx'] = self.dicionario['xNUMEROx'] + \" - \" + self.dicionario['xCOMPLEMENTOx']\n",
    "\n",
    "        self.dicionario[\"xENDERECOx\"] = self.dicionario['xLOGRADOUROx'] + \", nº \" + self.dicionario['xNUMEROx'] + \", Bairro \"\\\n",
    "            + self.dicionario['xBAIRROx'] + \", CEP \" + self.dicionario['xCEPx'] + \", \" + self.dicionario['xCIDADEx'] + \" - \" + self.dicionario['xUFx']\n",
    "      \n",
    "    def _qualificacao(self):\n",
    "        #deixa a qualificação pronta e adiciona ao dicionário\n",
    "        self.dicionario[\"xCLIENTEx\"] = self.dicionario['xNOMEx'] + \", \" + self.dicionario['xNACIONALIDADEx'] + \", \" + self.dicionario['xESTADO_CIVILx']\\\n",
    "            + \", \" + self.dicionario['xPROFISSAOx'] + \", RG n° \" + self.dicionario['xRGx'] + \" \" + self.dicionario['xEXPEDIDOR_RGx'] + \", CPF n° \"\\\n",
    "            + self.dicionario['xCPFx'] + \", e-mail: \" + self.dicionario['xEMAILx'] + \", residente e domiciliado à \" + self.dicionario[\"xENDERECOx\"]\n",
    "\n",
    "    def _substituir(self, documento, dicionario, nomedocumento):\n",
    "        #substitui os textos no documento, e salva o documento em word na pasta selecionada\n",
    "        for paragrafo in documento.paragraphs:\n",
    "            for chave in dicionario:\n",
    "                if chave in paragrafo.text:\n",
    "                    paragrafo.text = paragrafo.text.replace(chave, dicionario[chave])\n",
    "\n",
    "        documento.save(f\"Documentos Prontos\\{nomedocumento} - {self.dicionario['xNOMEx']}.docx\")\n",
    "      \n",
    "    #AQUI COMEÇAM AS FUNÇÕES DE CRIAR DOCUMENTOS - USADAS EXTERNAMENTE\n",
    "    def doc(self, nomedocumento):\n",
    "\n",
    "        #abre o arquivo    \n",
    "        documento = Document(f\"{self.dicionario['xESCRITORIOx']}\\{nomedocumento}.docx\") \n",
    "\n",
    "        #função para substituir os textos e salvar o documento                                 \n",
    "        self._substituir(documento, self.dicionario, nomedocumento) \n",
    "     "
   ]
  },
  {
   "cell_type": "code",
   "execution_count": 4,
   "metadata": {},
   "outputs": [
    {
     "name": "stdout",
     "output_type": "stream",
     "text": [
      "Terry Pratchett, brasileiro(a), divorciado(a), cabelereiro(a), RG n° 21.897.519-3 SSP/SP, CPF n° 059.642.010-24, e-mail: n/c, residente e domiciliado à Rua 65, nº 333 - Casa 46B, Bairro Independência - 3º Complemento, CEP 74966-230, Aparecida de Goiânia - GO\n"
     ]
    },
    {
     "data": {
      "text/plain": [
       "{'xIDPFx': '4',\n",
       " 'xNOMEx': 'Bernard Cornwell',\n",
       " 'xCPFx': '291.238.740-07',\n",
       " 'xRGx': '34.881.067-2',\n",
       " 'xEXPEDIDOR_RGx': 'SSP/SP',\n",
       " 'xESTADO_CIVILx': 'solteiro(a)',\n",
       " 'xPROFISSAOx': 'empresário(a)',\n",
       " 'xNACIONALIDADEx': 'brasileiro(a)',\n",
       " 'xCEPx': '89239-226',\n",
       " 'xLOGRADOUROx': 'Rua Irio Zanini',\n",
       " 'xNUMEROx': '444',\n",
       " 'xCOMPLEMENTOx': 'nan',\n",
       " 'xBAIRROx': 'Pirabeiraba (Pirabeiraba)',\n",
       " 'xCIDADEx': 'Joinville',\n",
       " 'xUFx': 'SC',\n",
       " 'xEMAILx': 'outroteste',\n",
       " 'xESCRITORIOx': 'Advocacia',\n",
       " 'xCADASTROx': 'cliente',\n",
       " 'xCELx': 'n/c',\n",
       " 'xENDERECOx': 'Rua Irio Zanini, nº 444, Bairro Pirabeiraba (Pirabeiraba), CEP 89239-226, Joinville - SC',\n",
       " 'xCLIENTEx': 'Bernard Cornwell, brasileiro(a), solteiro(a), empresário(a), RG n° 34.881.067-2 SSP/SP, CPF n° 291.238.740-07, e-mail: outroteste, residente e domiciliado à Rua Irio Zanini, nº 444, Bairro Pirabeiraba (Pirabeiraba), CEP 89239-226, Joinville - SC'}"
      ]
     },
     "execution_count": 4,
     "metadata": {},
     "output_type": "execute_result"
    }
   ],
   "source": [
    "#TESTE\n",
    "print(PF(\"Terry Pratchett\").dicionario[\"xCLIENTEx\"])\n",
    "Cliente = PF(\"Bernard Cornwell\")\n",
    "Cliente.dicionario\n",
    "#Cliente.doc(\"Procuração\")"
   ]
  },
  {
   "cell_type": "code",
   "execution_count": 5,
   "metadata": {},
   "outputs": [],
   "source": [
    "#Criar Classe PJ\n",
    "class PJ(PF):\n",
    "\n",
    "    def __init__(self, busca, coluna='xNOMEx', aba=\"PJ\"):\n",
    "        #carrega os atributos iniciais da classe PF\n",
    "        super().__init__(busca, coluna, aba)\n",
    "    \n",
    "    #deixa a qualificação pronta e adiciona ao dicionário         \n",
    "    def _qualificacao(self):\n",
    "        self.dicionario[\"xCLIENTEx\"] = self.dicionario['xNOMEx'] + \", pessoa jurídica inscrita no CNPJ n° \" + self.dicionario['xCNPJx'] + \", com endereço à \"\\\n",
    "            + self.dicionario['xENDERECOx'] + \", devidamente representado neste pelo sócio(a) \" + self.dicionario['xADMINISTRADORx'] \n",
    "    \n",
    "    #Transforma a qualificação para síndico e substitui no dicionário\n",
    "    def condominio(self):\n",
    "        self.dicionario[\"xCLIENTEx\"] = self.dicionario['xNOMEx'] + \", inscrito no CNPJ n° \" + self.dicionario['xCNPJx'] + \", com endereço à \"\\\n",
    "            + self.dicionario['xENDERECOx'] + \", devidamente representado neste pelo seu síndico(a) \" + self.dicionario['xADMINISTRADORx'] \n"
   ]
  },
  {
   "cell_type": "code",
   "execution_count": 6,
   "metadata": {},
   "outputs": [
    {
     "name": "stdout",
     "output_type": "stream",
     "text": [
      "Tyrell Corp., pessoa jurídica inscrita no CNPJ n° 67.792.284/0001-77, com endereço à Travessa Manoel Reinaldo, nº 456 - Apto. 31, Bairro Jatobá, CEP 58707-425, Patos - PB, devidamente representado neste pelo sócio(a) H. P. Lovecraft\n",
      "Tyrell Corp., inscrito no CNPJ n° 67.792.284/0001-77, com endereço à Travessa Manoel Reinaldo, nº 456 - Apto. 31, Bairro Jatobá, CEP 58707-425, Patos - PB, devidamente representado neste pelo seu síndico(a) H. P. Lovecraft\n",
      "Nakatomi Trading Corp., pessoa jurídica inscrita no CNPJ n° 95.332.727/0001-82, com endereço à Rua da Paz, nº 349 - Apto. 41, Bairro Esplanada, CEP 64039-595, Teresina - PI, devidamente representado neste pelo sócio(a) Willian Gibson\n"
     ]
    }
   ],
   "source": [
    "#TESTE\n",
    "Cliente = PJ(\"Tyrell Corp.\")\n",
    "print(Cliente.dicionario[\"xCLIENTEx\"])\n",
    "\n",
    "Cliente.condominio()\n",
    "print(Cliente.dicionario[\"xCLIENTEx\"])\n",
    "\n",
    "print(PJ(\"Nakatomi Trading Corp.\").dicionario[\"xCLIENTEx\"])"
   ]
  },
  {
   "cell_type": "code",
   "execution_count": 11,
   "metadata": {},
   "outputs": [],
   "source": [
    "class Peticoes(PF): #vai herdar as funções da classe PF\n",
    "\n",
    "    def __init__(self, busca):\n",
    "        #banco de dados\n",
    "        self.bd = pd.read_excel(\"0. Cadastro.xlsm\", aba).astype(str)\n",
    "        \n",
    "        #define a linha e a coluna (opcional) para busca no banco de dados\n",
    "        self.linha = self._buscarnome(busca, 'xPECAx')\n",
    "        \n",
    "        #busca o nome da peça\n",
    "        self.peca = str(self.bd.loc[self.linha, 'xPECAx'])\n",
    "        \n",
    "        #define a chave do dicionario\n",
    "        self.chave = []\n",
    "\n",
    "        #define o valor do dicionário (minhas chaves = xNOME_ATRIBUTOx)\n",
    "        self.valores = []\n",
    "\n",
    "        #pega a lista de atributos a serem definidos no banco de dados\n",
    "        self.atributos = str(self.bd.loc[self.linha, 'xATRIBUTOSx'])\n",
    "        \n",
    "        #usa as outras classes para qualificar autor e réu\n",
    "        self.autor = PJ(\"AAA\").cliente\n",
    "        self.reu = PF(\"SSSS\").cliente\n",
    "        self.nomereu = PF(\"WWWWW\").nome\n",
    "        \n",
    "        #list comprehension = [x for x in y]\n",
    "        #concatenação para acrescentar o \"x\", strip para tirar espaços, upper() para deixar maiuculo, split para dividir string pelo parametro \",\"\n",
    "        self.chave = [\"x\" + str.strip(i).upper() + \"x\" for i in self.atributos.split(\",\")]\n",
    "        self.valores = [str.strip(input(f\"Defina {i} \")) for i in self.atributos.split(\",\")]\n",
    "\n",
    "        #fazer dicionario com 2 listas\n",
    "        self.dicionario = dict(zip(self.chave, self.valores))\n",
    "        self.inserirdicionario()\n",
    "       \n",
    "    def inserirdicionario(self):\n",
    "        self.dicionario[\"xAUTORx\"] = self.autor\n",
    "        self.dicionario[\"xREUx\"] = self.reu\n",
    "        "
   ]
  },
  {
   "cell_type": "code",
   "execution_count": 12,
   "metadata": {},
   "outputs": [
    {
     "ename": "NameError",
     "evalue": "name 'aba' is not defined",
     "output_type": "error",
     "traceback": [
      "\u001b[1;31m---------------------------------------------------------------------------\u001b[0m",
      "\u001b[1;31mNameError\u001b[0m                                 Traceback (most recent call last)",
      "Cell \u001b[1;32mIn[12], line 1\u001b[0m\n\u001b[1;32m----> 1\u001b[0m teste \u001b[39m=\u001b[39m Peticoes(\u001b[39m\"\u001b[39;49m\u001b[39mCobrança\u001b[39;49m\u001b[39m\"\u001b[39;49m)\n\u001b[0;32m      2\u001b[0m teste\u001b[39m.\u001b[39matributos\u001b[39m.\u001b[39msplit(\u001b[39m\"\u001b[39m\u001b[39m,\u001b[39m\u001b[39m\"\u001b[39m)\n\u001b[0;32m      3\u001b[0m \u001b[39m#for i in teste.atributos.split(\",\"):\u001b[39;00m\n\u001b[0;32m      4\u001b[0m  \u001b[39m#   print(i)\u001b[39;00m\n\u001b[0;32m      5\u001b[0m \u001b[39m#teste.inserirvalores()\u001b[39;00m\n\u001b[0;32m      6\u001b[0m \u001b[39m#teste.valores[1]\u001b[39;00m\n\u001b[0;32m      7\u001b[0m \u001b[39m#teste.dicionario[\"xAUTORx\"]\u001b[39;00m\n",
      "Cell \u001b[1;32mIn[11], line 5\u001b[0m, in \u001b[0;36mPeticoes.__init__\u001b[1;34m(self, busca)\u001b[0m\n\u001b[0;32m      3\u001b[0m \u001b[39mdef\u001b[39;00m \u001b[39m__init__\u001b[39m(\u001b[39mself\u001b[39m, busca):\n\u001b[0;32m      4\u001b[0m     \u001b[39m#banco de dados\u001b[39;00m\n\u001b[1;32m----> 5\u001b[0m     \u001b[39mself\u001b[39m\u001b[39m.\u001b[39mbd \u001b[39m=\u001b[39m pd\u001b[39m.\u001b[39mread_excel(\u001b[39m\"\u001b[39m\u001b[39m0. Cadastro.xlsm\u001b[39m\u001b[39m\"\u001b[39m, aba)\u001b[39m.\u001b[39mastype(\u001b[39mstr\u001b[39m)\n\u001b[0;32m      7\u001b[0m     \u001b[39m#define a linha e a coluna (opcional) para busca no banco de dados\u001b[39;00m\n\u001b[0;32m      8\u001b[0m     \u001b[39mself\u001b[39m\u001b[39m.\u001b[39mlinha \u001b[39m=\u001b[39m \u001b[39mself\u001b[39m\u001b[39m.\u001b[39m_buscarnome(busca, \u001b[39m'\u001b[39m\u001b[39mxPECAx\u001b[39m\u001b[39m'\u001b[39m)\n",
      "\u001b[1;31mNameError\u001b[0m: name 'aba' is not defined"
     ]
    }
   ],
   "source": [
    "teste = Peticoes(\"Cobrança\")\n",
    "teste.atributos.split(\",\")\n",
    "#for i in teste.atributos.split(\",\"):\n",
    " #   print(i)\n",
    "#teste.inserirvalores()\n",
    "#teste.valores[1]\n",
    "#teste.dicionario[\"xAUTORx\"]\n",
    "teste.dicionario\n",
    "\n"
   ]
  }
 ],
 "metadata": {
  "kernelspec": {
   "display_name": "Python 3",
   "language": "python",
   "name": "python3"
  },
  "language_info": {
   "codemirror_mode": {
    "name": "ipython",
    "version": 3
   },
   "file_extension": ".py",
   "mimetype": "text/x-python",
   "name": "python",
   "nbconvert_exporter": "python",
   "pygments_lexer": "ipython3",
   "version": "3.11.0"
  },
  "orig_nbformat": 4,
  "vscode": {
   "interpreter": {
    "hash": "0c1c5be3599bae2a30863c990c2ce2fbcdf3e5de40fde5c3be83ad292c296199"
   }
  }
 },
 "nbformat": 4,
 "nbformat_minor": 2
}
